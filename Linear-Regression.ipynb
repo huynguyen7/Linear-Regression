{
 "cells": [
  {
   "cell_type": "markdown",
   "metadata": {},
   "source": [
    "# Linear Regression"
   ]
  },
  {
   "cell_type": "markdown",
   "metadata": {},
   "source": [
    "## Definition\n",
    "- The essence of regression of how to fit a line to some data.\n",
    "- Apply Chi-Square Test to see the DEPENDENCY of the line with dataset."
   ]
  },
  {
   "cell_type": "markdown",
   "metadata": {},
   "source": [
    "## Math\n",
    "- Our linear function: y = mx + c\n",
    "- Chi-Squared Test:\n",
    "    * $X^2 = \\sum(y_{i} − mx_{i} − c)$\n",
    "- Minimize the Chi-Squared Test $X^2$ by differentiating it (respect to m and c) and setting it to zero, then we have two equations:\n",
    "    * $m = \\frac{\\sum(x_{i} - \\bar{x})y_{i}}{\\sum(x_{i} - \\bar{x})^2}$\n",
    "    * $c = \\bar{y} - m\\bar{x}$"
   ]
  },
  {
   "cell_type": "code",
   "execution_count": null,
   "metadata": {},
   "outputs": [],
   "source": [
    "import numpy as np\n",
    "from scipy import stats\n",
    "from matplotlib import pyplot as plt"
   ]
  },
  {
   "cell_type": "code",
   "execution_count": null,
   "metadata": {},
   "outputs": [],
   "source": [
    "# Defines coordinates\n",
    "x_coordinates = [0.43,0.5,0.6,0.7,0.8,0.75,0.62]\n",
    "y_coordinates = [0.12,0.25,0.55,0.78,0.8,0.82,0.57]"
   ]
  },
  {
   "cell_type": "code",
   "execution_count": null,
   "metadata": {},
   "outputs": [],
   "source": [
    "# Linear Regression Implementation\n",
    "def linfit(x_coordinates, y_coordinates):\n",
    "    # Calculate mean-x and mean-y\n",
    "    x_bar = np.sum(x_coordinates) / len(x_coordinates)\n",
    "    y_bar = np.sum(y_coordinates) / len(y_coordinates)\n",
    "    \n",
    "    suma = 0\n",
    "    sumb = 0\n",
    "    for i in range(len(x_coordinates)):\n",
    "        suma += (x_coordinates[i] - x_bar) * y_coordinates[i]\n",
    "        sumb += (x_coordinates[i] - x_bar) ** 2\n",
    "    m = suma / sumb\n",
    "    c = y_bar - m*x_bar\n",
    "    \n",
    "    return m, c\n",
    "\n",
    "\n",
    "def graph(x_coordinates, y_coordinates, m, c):\n",
    "    x = np.array([0,0.25,0.5,0.75,1.0])\n",
    "    y = eval(f'{m}*x + {c}')\n",
    "    plt.plot(x, y)\n",
    "    \n",
    "    for i in range(len(x_coordinates)):\n",
    "        plt.scatter(x_coordinates[i], y_coordinates[i], c='r')\n",
    "    plt.show()"
   ]
  },
  {
   "cell_type": "code",
   "execution_count": null,
   "metadata": {},
   "outputs": [],
   "source": [
    "# Applying Linear Regression\n",
    "m, c = linfit(x_coordinates, y_coordinates)\n",
    "graph(x_coordinates, y_coordinates, m, c)\n",
    "print(f'm = {m}, c = {c}')"
   ]
  },
  {
   "cell_type": "code",
   "execution_count": null,
   "metadata": {},
   "outputs": [],
   "source": [
    "# Another approach by using Scipy library.\n",
    "linr = stats.linregress(x_coordinates, y_coordinates)\n",
    "m, c = linr.slope, linr.intercept\n",
    "graph(x_coordinates, y_coordinates, m, c)\n",
    "print(f'm = {m}, c = {c}')"
   ]
  }
 ],
 "metadata": {
  "kernelspec": {
   "display_name": "Python 3",
   "language": "python",
   "name": "python3"
  },
  "language_info": {
   "codemirror_mode": {
    "name": "ipython",
    "version": 3
   },
   "file_extension": ".py",
   "mimetype": "text/x-python",
   "name": "python",
   "nbconvert_exporter": "python",
   "pygments_lexer": "ipython3",
   "version": "3.9.1"
  }
 },
 "nbformat": 4,
 "nbformat_minor": 4
}
